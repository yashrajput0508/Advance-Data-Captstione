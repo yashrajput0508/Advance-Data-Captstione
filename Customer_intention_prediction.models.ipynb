{
 "cells": [
  {
   "cell_type": "markdown",
   "metadata": {},
   "source": [
    "# Report\n",
    "\n",
    "The goal is to identify which features are important and influence the buying intent of customers. There are 3 sets of feature and 2 models are trained on each set. The tree based model(Gradient boosted trees) will be used to determine feature importance. The model with the highest Balanced accuracy score will be selected. The neural netwrok based mode serves as reference for how good the tree based model is. Ideally the performance between the two models should be equal. \n",
    "\n",
    "\n",
    "## Model selection\n",
    "\n",
    "The hyper parameter for each model is optimized using bayesian optimization and 5 fold  stratified Cross Validation. Each model is trained on there different transformations of the original dataset. Since the data set is imbalanced be use balanced accuracy as the metric."
   ]
  },
  {
   "cell_type": "markdown",
   "metadata": {},
   "source": [
    "### Optimization and selection for gradient boosted trees"
   ]
  },
  {
   "cell_type": "code",
   "execution_count": 1,
   "metadata": {},
   "outputs": [
    {
     "name": "stderr",
     "output_type": "stream",
     "text": [
      "/Library/Frameworks/Python.framework/Versions/3.6/lib/python3.6/site-packages/lightgbm/__init__.py:46: UserWarning: Starting from version 2.2.1, the library file in distribution wheels for macOS is built by the Apple Clang (Xcode_8.3.3) compiler.\n",
      "This means that in case of installing LightGBM from PyPI via the ``pip install lightgbm`` command, you don't need to install the gcc compiler anymore.\n",
      "Instead of that, you need to install the OpenMP library, which is required for running LightGBM on the system with the Apple Clang compiler.\n",
      "You can install the OpenMP library by the following command: ``brew install libomp``.\n",
      "  \"You can install the OpenMP library by the following command: ``brew install libomp``.\", UserWarning)\n"
     ]
    }
   ],
   "source": [
    "# imports\n",
    "import lightgbm as lgb #light gradient boosted tree\n",
    "from sklearn.model_selection import train_test_split, StratifiedKFold # train and test split\n",
    "from sklearn.metrics import balanced_accuracy_score,precision_score# metrics\n",
    "from hyperopt import fmin, tpe, hp, Trials, STATUS_OK# optimization\n",
    "import numpy as np\n",
    "import pandas as pd # reading data\n",
    "import warnings\n",
    "warnings.simplefilter(\"ignore\")"
   ]
  },
  {
   "cell_type": "code",
   "execution_count": 2,
   "metadata": {},
   "outputs": [],
   "source": [
    "# read data\n",
    "df_encoded = pd.read_csv('/Users/nikk/Downloads/IBM Capstone/online_shoppers_intention_encoded.csv', index_col=False)\n",
    "df_scaled = pd.read_csv('/Users/nikk/Downloads/IBM Capstone/online_shoppers_intention_encoded_scaled.csv', index_col=False)\n",
    "df_transformed = pd.read_csv('/Users/nikk/Downloads/IBM Capstone/online_shoppers_intention_encoded_scaled_transformed.csv', index_col=False)"
   ]
  },
  {
   "cell_type": "code",
   "execution_count": 3,
   "metadata": {},
   "outputs": [],
   "source": [
    "#seperate label\n",
    "label = df_encoded.pop('Revenue').astype('int')\n",
    "_,_ = df_scaled.pop('Revenue'),df_transformed.pop('Revenue')"
   ]
  },
  {
   "cell_type": "code",
   "execution_count": 32,
   "metadata": {},
   "outputs": [],
   "source": [
    "#split object for CV \n",
    "skf = StratifiedKFold(n_splits=5, random_state=None, shuffle=True)\n",
    "#Hyperparameter search space for gradient boosed trees\n",
    "lgb_space = {'lr':hp.loguniform('lr',-6.9,-2.3),'num_leaves':hp.quniform('num_leaves',15,255,1),\n",
    "         'max_depth':hp.choice('max_depth',[-1,9,12]),'colsample_bytree': hp.uniform('colsample_bytree', 0.3, 1.0)}"
   ]
  },
  {
   "cell_type": "code",
   "execution_count": 33,
   "metadata": {},
   "outputs": [],
   "source": [
    "def lgb_optimizer(params):\n",
    "    '''A function to optimize  lgb classifier\n",
    "    :params:=params , dictionary containing the Hyper-parameters for the classifier\n",
    "    returns true loss and validation loss\n",
    "    '''\n",
    "    if 'num_leaves' in params:\n",
    "        params['num_leaves']=int(params['num_leaves'])\n",
    "    if 'max_depth' in params:\n",
    "        params['max_depth']=int(params['max_depth'])\n",
    "    val_score=[]\n",
    "    true_scores=[]\n",
    "    rd=1\n",
    "    for train_index, test_index in skf.split(X_train, y_train):\n",
    "        X_tr, X_val = X_train.iloc[train_index], X_train.iloc[test_index]\n",
    "        y_tr, y_val = y_train.iloc[train_index], y_train.iloc[test_index]\n",
    "        clf = lgb.LGBMClassifier(n_estimators=2000,**params)\n",
    "        clf.fit(X_tr,y_tr,eval_set=(X_val,y_val),early_stopping_rounds =200,eval_metric='logloss',verbose=False)\n",
    "        y_pred = clf.predict(X_val)\n",
    "        y_tr_pred=clf.predict(X_tr)\n",
    "        score=balanced_accuracy_score(y_val,y_pred,)\n",
    "        true_score=balanced_accuracy_score(y_tr,y_tr_pred)\n",
    "        val_score.append(score)\n",
    "        true_scores.append(true_score)\n",
    "        rd+=1\n",
    "    mean,std =np.mean(val_score),np.std(val_score)\n",
    "    true_mean=np.mean(true_scores)\n",
    "    print(\"mean: {}, Std: {}\".format(mean,std))\n",
    "    return {'loss':-mean,'status': STATUS_OK,'true_loss':-true_mean}"
   ]
  },
  {
   "cell_type": "code",
   "execution_count": 34,
   "metadata": {
    "scrolled": true
   },
   "outputs": [
    {
     "name": "stdout",
     "output_type": "stream",
     "text": [
      "mean: 0.7648032999126473, Std: 0.009472252556223595 \n",
      "mean: 0.765598735570849, Std: 0.019700513434582494                            \n",
      "mean: 0.7721271727299197, Std: 0.011347568406319257                           \n",
      "mean: 0.755794242211039, Std: 0.0245689845062744                              \n",
      "mean: 0.7700370156072898, Std: 0.018229468484128417                           \n",
      "mean: 0.7690302648203019, Std: 0.017938507025367634                           \n",
      "mean: 0.7511019453813594, Std: 0.015283663553883664                           \n",
      "mean: 0.7534002809287144, Std: 0.015525925970539567                           \n",
      "mean: 0.7716229506762659, Std: 0.015123870186092023                           \n",
      "mean: 0.7738355579771634, Std: 0.006041006463133486                           \n",
      "mean: 0.7741690233603222, Std: 0.0026756153312766963                           \n",
      "mean: 0.7802594529138231, Std: 0.01285955155105592                             \n",
      "mean: 0.768784783361222, Std: 0.007762957992326159                             \n",
      "mean: 0.7513898098357541, Std: 0.01781791467054953                             \n",
      "mean: 0.7563620793723593, Std: 0.006308556305326254                            \n",
      "mean: 0.7693073882502315, Std: 0.0152839390345563                              \n",
      "mean: 0.7552800789299715, Std: 0.017460177374809874                            \n",
      "mean: 0.7722782593916795, Std: 0.026275220726289728                            \n",
      "mean: 0.7413499074609817, Std: 0.016719003919823935                            \n",
      "mean: 0.7671054157507532, Std: 0.015151897677613557                            \n",
      "100%|██████████| 20/20 [12:54<00:00, 38.72s/it, best loss: -0.7802594529138231]\n"
     ]
    }
   ],
   "source": [
    "#split into train and test and call the fmin(optimizer) function for encoded dataset\n",
    "X_train,X_test,y_train,y_test = train_test_split(df_encoded,label,test_size=0.2,random_state=42)\n",
    "trials_encoded = Trials()\n",
    "best_e= fmin(lgb_optimizer,lgb_space, algo=tpe.suggest, max_evals=20, trials=trials_encoded)"
   ]
  },
  {
   "cell_type": "code",
   "execution_count": 35,
   "metadata": {},
   "outputs": [
    {
     "name": "stdout",
     "output_type": "stream",
     "text": [
      "mean: 0.7702011427100374, Std: 0.006295764633780883 \n",
      "mean: 0.7750971253544413, Std: 0.012003704831558023                           \n",
      "mean: 0.7685549666772056, Std: 0.017815620765776106                           \n",
      "mean: 0.7629849238255793, Std: 0.01684001140237662                            \n",
      "mean: 0.7834173515970322, Std: 0.011642565931269971                           \n",
      "mean: 0.7750989373946362, Std: 0.011205683959427871                           \n",
      "mean: 0.7726970593711845, Std: 0.007954325055552228                           \n",
      "mean: 0.7717113407472855, Std: 0.022711076560517202                           \n",
      "mean: 0.7642983280492575, Std: 0.02111623402986933                            \n",
      "mean: 0.7768163578491958, Std: 0.02282934597979902                            \n",
      "mean: 0.7711634360281078, Std: 0.011802112660966053                            \n",
      "mean: 0.7747693585252742, Std: 0.009320150426589282                            \n",
      "mean: 0.7779193654610143, Std: 0.004169147287386973                            \n",
      "mean: 0.7740710732151717, Std: 0.008356554063877076                            \n",
      "mean: 0.7737168880896472, Std: 0.011194443336338084                            \n",
      "mean: 0.7636549787991296, Std: 0.012321106412423578                            \n",
      "mean: 0.7745699653712871, Std: 0.011044011896959449                            \n",
      "mean: 0.7709401051983059, Std: 0.004302303360551261                            \n",
      "mean: 0.7687946308624187, Std: 0.01704716731895485                             \n",
      "mean: 0.7738241483723505, Std: 0.011473938653205541                            \n",
      "100%|██████████| 20/20 [08:28<00:00, 25.41s/it, best loss: -0.7834173515970322]\n"
     ]
    }
   ],
   "source": [
    "#for scaled dataset\n",
    "X_train,X_test,y_train,y_test = train_test_split(df_scaled,label,test_size=0.2,random_state=42)\n",
    "trials_scaled = Trials()\n",
    "best_scaled = fmin(lgb_optimizer, lgb_space, algo=tpe.suggest, max_evals=20, trials=trials_scaled)"
   ]
  },
  {
   "cell_type": "code",
   "execution_count": 36,
   "metadata": {},
   "outputs": [
    {
     "name": "stdout",
     "output_type": "stream",
     "text": [
      "mean: 0.7688251981059806, Std: 0.011973106152897194 \n",
      "mean: 0.768008242908362, Std: 0.009599771791557256                            \n",
      "mean: 0.7750206947487075, Std: 0.010798033013750721                           \n",
      "mean: 0.7711375425985656, Std: 0.014688279836702543                           \n",
      "mean: 0.7533299300302548, Std: 0.021018907996172453                           \n",
      "mean: 0.7591240785150769, Std: 0.011994795429169001                           \n",
      "mean: 0.7728382860349188, Std: 0.016241775787938416                           \n",
      "mean: 0.7611471401631835, Std: 0.01257845686597664                            \n",
      "mean: 0.7720489300839912, Std: 0.010151271557926082                           \n",
      "mean: 0.7654750232128598, Std: 0.006784935209282768                           \n",
      "mean: 0.7619696502012614, Std: 0.008357119805630546                            \n",
      "mean: 0.7753452061539384, Std: 0.009197470642498635                            \n",
      "mean: 0.7710997146973956, Std: 0.005372427474573866                            \n",
      "mean: 0.7746346177157546, Std: 0.010358248624912823                            \n",
      "mean: 0.7700009997463143, Std: 0.01975386219940048                             \n",
      "mean: 0.747007240662682, Std: 0.02156720458138887                              \n",
      "mean: 0.7603243676916983, Std: 0.009844831226347894                            \n",
      "mean: 0.7695528697093112, Std: 0.011069158491655014                            \n",
      "mean: 0.747123573643188, Std: 0.013366717647664856                             \n",
      "mean: 0.7789954049160025, Std: 0.013822460262228687                            \n",
      "100%|██████████| 20/20 [09:42<00:00, 29.12s/it, best loss: -0.7789954049160025]\n"
     ]
    }
   ],
   "source": [
    "#for transformed dataset\n",
    "X_train,X_test,y_train,y_test = train_test_split(df_transformed,label,test_size=0.2,random_state=42)\n",
    "trials_transformed = Trials()\n",
    "best_transformed = fmin(lgb_optimizer, lgb_space, algo=tpe.suggest, max_evals=20, trials=trials_transformed)"
   ]
  },
  {
   "cell_type": "code",
   "execution_count": 67,
   "metadata": {},
   "outputs": [],
   "source": [
    "def model_trainer(Data,label,params,classifier='lgb',test_size=0.2):\n",
    "    '''A function to train a model. \n",
    "    parameters:\n",
    "    Data :=pandas dataset or numpy array of features\n",
    "    label:=pandas dataset or numpy array of labels for features \n",
    "    params:=python dict parametes for the model\n",
    "    model:=keras model object or sklearn classifier object\n",
    "    test_size:=Float (0,1) fraction for test split\n",
    "    return\n",
    "    model:=str 'keras','lgb'\n",
    "    train_score:=float balanced accuracy train score\n",
    "    test_score:=float balanced accuracy test score\n",
    "    returns-trained model,train_score,test_score\n",
    "    '''\n",
    "    X_train,X_test,y_train,y_test = train_test_split(Data,label,test_size=test_size,random_state=42)\n",
    "    if classifier=='lgb':\n",
    "        if 'num_leaves' in params:\n",
    "            params['num_leaves']=int(params['num_leaves'])\n",
    "        if 'max_depth' in params:\n",
    "            #max_depth=[-1,9,12]#max_depth choice list\n",
    "            params['max_depth']=-1#int(params['max_depth'])#best returns an index corresponding the choice\n",
    "        clf = lgb.LGBMClassifier(n_estimators=5000,**params)\n",
    "        clf.fit(X_train,y_train,eval_set=(X_test,y_test),early_stopping_rounds =200,eval_metric='auc',verbose=False)\n",
    "        train_pred=clf.predict(X_train)\n",
    "        test_pred=clf.predict(X_test)\n",
    "    elif classifier=='keras':\n",
    "        opt=['adam','sgd']\n",
    "        if 'optimizer' in params:\n",
    "            params['optimizer'] =opt[params['optimizer']]\n",
    "        clf = model(feature_size=X_train.shape[-1],**params)\n",
    "        clf.fit(X_train,y_train,epochs=20,batch_size=128,verbose=0)\n",
    "        train_pred=np.round(clf.predict(X_train))\n",
    "        test_pred=np.round(clf.predict(X_test))\n",
    "    train_score = balanced_accuracy_score(train_pred,y_train)\n",
    "    test_score= balanced_accuracy_score(test_pred,y_test)\n",
    "    return clf,train_score,test_score\n",
    "        \n",
    "    "
   ]
  },
  {
   "cell_type": "code",
   "execution_count": 57,
   "metadata": {},
   "outputs": [
    {
     "name": "stdout",
     "output_type": "stream",
     "text": [
      "{'colsample_bytree': 0.8311030431046906, 'lr': 0.03214058506715077, 'max_depth': 1, 'num_leaves': 106}\n",
      "{'colsample_bytree': 0.3402449144708759, 'lr': 0.0035307421463197783, 'max_depth': 1, 'num_leaves': 18}\n",
      "{'colsample_bytree': 0.5462731459866503, 'lr': 0.004306076963864823, 'max_depth': 1, 'num_leaves': 165}\n"
     ]
    }
   ],
   "source": [
    "print(best_e)\n",
    "print(best_scaled)\n",
    "print(best_transformed)"
   ]
  },
  {
   "cell_type": "code",
   "execution_count": 68,
   "metadata": {},
   "outputs": [],
   "source": [
    "clf_encoded,lgb_train_encoded,lgb_test_encoded=model_trainer(df_encoded,label,best_e)\n",
    "clf_scaled,lgb_train_scaled,lgb_test_scaled=model_trainer(df_scaled,label,best_scaled)\n",
    "clf_transformed,lgb_train_transformed,lgb_test_transformed=model_trainer(df_transformed,label,best_transformed)"
   ]
  },
  {
   "cell_type": "code",
   "execution_count": 69,
   "metadata": {},
   "outputs": [
    {
     "name": "stdout",
     "output_type": "stream",
     "text": [
      "results\n",
      "| Dataset Type | Train Score | Test Score |\n",
      "| Encoded      | 0.939719       | 0.822682     |\n",
      "| Scaled       | 0.894047       | 0.809184     |\n",
      "| Transformed  | 0.894047       | 0.809184     |\n"
     ]
    }
   ],
   "source": [
    "print(\"results\")\n",
    "print(\"| Dataset Type | Train Score | Test Score |\")\n",
    "print(\"| Encoded      | {:2f}       | {:2f}     |\".format(lgb_train_encoded,lgb_test_encoded))\n",
    "print(\"| Scaled       | {:2f}       | {:2f}     |\".format(lgb_train_scaled,lgb_test_scaled))\n",
    "print(\"| Transformed  | {:2f}       | {:2f}     |\".format(lgb_train_scaled,lgb_test_scaled))"
   ]
  },
  {
   "cell_type": "markdown",
   "metadata": {},
   "source": [
    "### optimization and selection for neural network"
   ]
  },
  {
   "cell_type": "code",
   "execution_count": 16,
   "metadata": {},
   "outputs": [
    {
     "name": "stderr",
     "output_type": "stream",
     "text": [
      "Using TensorFlow backend.\n"
     ]
    }
   ],
   "source": [
    "from keras.models import Sequential\n",
    "from keras.layers import Dense, Dropout\n",
    "from keras.optimizers import Adam, SGD\n",
    "from keras.callbacks import EarlyStopping"
   ]
  },
  {
   "cell_type": "code",
   "execution_count": 17,
   "metadata": {},
   "outputs": [],
   "source": [
    "skf = StratifiedKFold(n_splits=5, random_state=None, shuffle=True)"
   ]
  },
  {
   "cell_type": "code",
   "execution_count": 18,
   "metadata": {},
   "outputs": [],
   "source": [
    "def model(feature_size,lr=0.1,optimizer='adam',hl_size=128):\n",
    "    ''' function to define keras model\n",
    "    :feature:=\n",
    "    '''\n",
    "    if optimizer=='adam':\n",
    "        opt =Adam(lr=lr)\n",
    "    elif optimizer=='sgd':\n",
    "        opt = SGD(lr=lr)\n",
    "    hl_size=int(hl_size)\n",
    "    model =Sequential()\n",
    "    model.add(Dense(hl_size,activation='relu',input_shape=(feature_size,)))\n",
    "    model.add(Dropout(0.25))\n",
    "    model.add(Dense(hl_size,activation='relu'))\n",
    "    model.add(Dense(1,activation='sigmoid'))\n",
    "    model.compile(optimizer=opt,loss='binary_crossentropy',metrics=['acc'])\n",
    "    return model\n",
    "    "
   ]
  },
  {
   "cell_type": "code",
   "execution_count": 19,
   "metadata": {},
   "outputs": [],
   "source": [
    "def keras_optimizer(params):\n",
    "    val_score=[]\n",
    "    true_scores=[]\n",
    "    rd=1\n",
    "    for train_index, test_index in skf.split(X_train, y_train):\n",
    "        X_tr, X_val = X_train.iloc[train_index], X_train.iloc[test_index]\n",
    "        y_tr, y_val = y_train.iloc[train_index], y_train.iloc[test_index]\n",
    "        nn_model = model(X_train.shape[1],**params)\n",
    "        cb = EarlyStopping(monitor='val_acc',min_delta=0.001,patience=3)\n",
    "        nn_model.fit(X_tr,y_tr,validation_data=(X_val,y_val),batch_size=128,callbacks=[cb],epochs=50,verbose=0)\n",
    "        #_,score= nn_model.evaluate(X_val,y_val)\n",
    "        #_,true_score=nn_model.evaluate(X_tr,y_tr)\n",
    "        cv_pred = np.round(nn_model.predict(X_val))\n",
    "        score=balanced_accuracy_score(y_val,cv_pred)\n",
    "        y_tr_pred = np.round(nn_model.predict(X_tr))\n",
    "        true_score=balanced_accuracy_score(y_tr,y_tr_pred)\n",
    "        \n",
    "        val_score.append(score)\n",
    "        true_scores.append(true_score)\n",
    "        rd+=1\n",
    "    mean,std =np.mean(val_score),np.std(val_score)\n",
    "    true_mean=np.mean(true_scores)\n",
    "    print(\"mean: {}, Std: {}\".format(mean,std))\n",
    "    return {'loss':-mean,'status': STATUS_OK,'true_loss':-true_mean}"
   ]
  },
  {
   "cell_type": "code",
   "execution_count": 20,
   "metadata": {},
   "outputs": [],
   "source": [
    "keras_space = {'lr':hp.loguniform('lr',-10,-2.3),'optimizer':hp.choice('optimizer',['adam','sgd'])}"
   ]
  },
  {
   "cell_type": "code",
   "execution_count": 21,
   "metadata": {},
   "outputs": [
    {
     "name": "stdout",
     "output_type": "stream",
     "text": [
      "\r",
      "  0%|          | 0/10 [00:00<?, ?it/s, best loss: ?]"
     ]
    },
    {
     "name": "stderr",
     "output_type": "stream",
     "text": [
      "WARNING: Logging before flag parsing goes to stderr.\n",
      "\n",
      "W0906 15:25:48.786134 4321383296 deprecation_wrapper.py:119] From /Library/Frameworks/Python.framework/Versions/3.6/lib/python3.6/site-packages/keras/backend/tensorflow_backend.py:74: The name tf.get_default_graph is deprecated. Please use tf.compat.v1.get_default_graph instead.\n",
      "\n",
      "W0906 15:25:48.787585 4321383296 deprecation_wrapper.py:119] From /Library/Frameworks/Python.framework/Versions/3.6/lib/python3.6/site-packages/keras/backend/tensorflow_backend.py:517: The name tf.placeholder is deprecated. Please use tf.compat.v1.placeholder instead.\n",
      "\n",
      "W0906 15:25:48.790362 4321383296 deprecation_wrapper.py:119] From /Library/Frameworks/Python.framework/Versions/3.6/lib/python3.6/site-packages/keras/backend/tensorflow_backend.py:4138: The name tf.random_uniform is deprecated. Please use tf.random.uniform instead.\n",
      "\n",
      "W0906 15:25:48.805279 4321383296 deprecation_wrapper.py:119] From /Library/Frameworks/Python.framework/Versions/3.6/lib/python3.6/site-packages/keras/backend/tensorflow_backend.py:133: The name tf.placeholder_with_default is deprecated. Please use tf.compat.v1.placeholder_with_default instead.\n",
      "\n",
      "W0906 15:25:48.813000 4321383296 deprecation.py:506] From /Library/Frameworks/Python.framework/Versions/3.6/lib/python3.6/site-packages/keras/backend/tensorflow_backend.py:3445: calling dropout (from tensorflow.python.ops.nn_ops) with keep_prob is deprecated and will be removed in a future version.\n",
      "Instructions for updating:\n",
      "Please use `rate` instead of `keep_prob`. Rate should be set to `rate = 1 - keep_prob`.\n",
      "W0906 15:25:48.853416 4321383296 deprecation_wrapper.py:119] From /Library/Frameworks/Python.framework/Versions/3.6/lib/python3.6/site-packages/keras/optimizers.py:790: The name tf.train.Optimizer is deprecated. Please use tf.compat.v1.train.Optimizer instead.\n",
      "\n",
      "W0906 15:25:48.859821 4321383296 deprecation_wrapper.py:119] From /Library/Frameworks/Python.framework/Versions/3.6/lib/python3.6/site-packages/keras/backend/tensorflow_backend.py:3376: The name tf.log is deprecated. Please use tf.math.log instead.\n",
      "\n",
      "W0906 15:25:48.865246 4321383296 deprecation.py:323] From /Library/Frameworks/Python.framework/Versions/3.6/lib/python3.6/site-packages/tensorflow/python/ops/nn_impl.py:180: add_dispatch_support.<locals>.wrapper (from tensorflow.python.ops.array_ops) is deprecated and will be removed in a future version.\n",
      "Instructions for updating:\n",
      "Use tf.where in 2.0, which has the same broadcast rule as np.where\n"
     ]
    },
    {
     "name": "stdout",
     "output_type": "stream",
     "text": [
      "mean: 0.5089962422035408, Std: 0.01816000424960359  \n",
      "mean: 0.5, Std: 0.0                                                           \n",
      "mean: 0.4917936261173727, Std: 0.010767059527641698                           \n",
      "mean: 0.5599817296361048, Std: 0.07571228524657304                            \n",
      "mean: 0.49825301204819283, Std: 0.002530120481927706                          \n",
      "mean: 0.501552662261951, Std: 0.0031053245239020645                           \n",
      "mean: 0.5, Std: 0.0                                                           \n",
      "mean: 0.49857559269335405, Std: 0.0013434442032784156                         \n",
      "mean: 0.5580492887429814, Std: 0.06916021093788026                            \n",
      "mean: 0.5001408205167939, Std: 0.0006278088037732487                          \n",
      "100%|██████████| 10/10 [02:36<00:00, 15.65s/it, best loss: -0.5599817296361048]\n"
     ]
    }
   ],
   "source": [
    "X_train,X_test,y_train,y_test = train_test_split(df_encoded,label,test_size=0.2,random_state=42)\n",
    "best_nn_encoded=fmin(keras_optimizer,keras_space,algo=tpe.suggest,max_evals=10)"
   ]
  },
  {
   "cell_type": "code",
   "execution_count": 22,
   "metadata": {},
   "outputs": [
    {
     "name": "stdout",
     "output_type": "stream",
     "text": [
      "mean: 0.5, Std: 0.0                                 \n",
      "mean: 0.5805684744995958, Std: 0.06991308516158268             \n",
      "mean: 0.5, Std: 0.0                                                           \n",
      "mean: 0.7149441954104145, Std: 0.01792666462870923                            \n",
      "mean: 0.7239937865766561, Std: 0.011333870990119494                           \n",
      "mean: 0.7098729384918577, Std: 0.008430996886001008                           \n",
      "mean: 0.53103398762564, Std: 0.05930412127585226                              \n",
      "mean: 0.6554017480564307, Std: 0.07216541672763825                            \n",
      "mean: 0.5033177706157063, Std: 0.007504667962484139                           \n",
      "mean: 0.5, Std: 0.0                                                           \n",
      "100%|██████████| 10/10 [06:34<00:00, 39.45s/it, best loss: -0.7239937865766561]\n"
     ]
    }
   ],
   "source": [
    "X_train,X_test,y_train,y_test = train_test_split(df_scaled,label,test_size=0.2,random_state=42)\n",
    "best_nn_scaled=fmin(keras_optimizer,keras_space,algo=tpe.suggest,max_evals=10)"
   ]
  },
  {
   "cell_type": "code",
   "execution_count": 23,
   "metadata": {},
   "outputs": [
    {
     "name": "stdout",
     "output_type": "stream",
     "text": [
      "mean: 0.5662681157156373, Std: 0.12832724174222768  \n",
      "mean: 0.7990418993680353, Std: 0.028088183856606472                           \n",
      "mean: 0.5, Std: 0.0                                                           \n",
      "mean: 0.7414108170051849, Std: 0.013629377430794985                           \n",
      "mean: 0.6775972534469379, Std: 0.08998324071818029                            \n",
      "mean: 0.5006634254058033, Std: 0.0017824794743804655                          \n",
      "mean: 0.6200348036685691, Std: 0.14650042274124625                            \n",
      "mean: 0.6843963781690396, Std: 0.15058727146102785                            \n",
      "mean: 0.4999397590361446, Std: 0.000120481927710836                           \n",
      "mean: 0.7512991890807708, Std: 0.047282288012139496                           \n",
      "100%|██████████| 10/10 [09:08<00:00, 54.87s/it, best loss: -0.7990418993680353]\n"
     ]
    }
   ],
   "source": [
    "X_train,X_test,y_train,y_test = train_test_split(df_transformed,label,test_size=0.2,random_state=42)\n",
    "best_nn_transformed=fmin(keras_optimizer,keras_space,algo=tpe.suggest,max_evals=10)"
   ]
  },
  {
   "cell_type": "code",
   "execution_count": 24,
   "metadata": {},
   "outputs": [
    {
     "name": "stdout",
     "output_type": "stream",
     "text": [
      "{'lr': 0.00012002472928384314, 'optimizer': 0}\n",
      "{'lr': 0.003479930944261353, 'optimizer': 0}\n",
      "{'lr': 0.026393911408451598, 'optimizer': 1}\n"
     ]
    }
   ],
   "source": [
    "print(best_nn_encoded)\n",
    "print(best_nn_scaled)\n",
    "print(best_nn_transformed)"
   ]
  },
  {
   "cell_type": "code",
   "execution_count": 30,
   "metadata": {},
   "outputs": [],
   "source": [
    "_,nn_train_encoded,nn_test_encoded=model_trainer(df_encoded,label,best_nn_encoded,'keras')\n",
    "_,nn_train_scaled,nn_test_scaled=model_trainer(df_scaled,label,best_nn_scaled,'keras')\n",
    "_,nn_train_transformed,nn_test_transformed=model_trainer(df_transformed,label,best_nn_transformed,'keras')"
   ]
  },
  {
   "cell_type": "code",
   "execution_count": 70,
   "metadata": {},
   "outputs": [
    {
     "name": "stdout",
     "output_type": "stream",
     "text": [
      "|              |        neural network            |       Boosted Trees       |\n",
      "| Dataset Type | Train Score     | Test Score     |Train Score   | Test Score |\n",
      "| Encoded      | 0.8350          | 0.8366         | 0.9397       | 0.8227     |\n",
      "| Scaled       | 0.8927          | 0.7760         | 0.8940       | 0.8092     |\n",
      "| Transformed  | 0.8927          | 0.7760         | 0.8940       | 0.8092     |\n"
     ]
    }
   ],
   "source": [
    "print(\"|              |        neural network            |       Boosted Trees       |\")\n",
    "print(\"| Dataset Type | Train Score     | Test Score     |Train Score   | Test Score |\")\n",
    "print(\"| Encoded      | {:.4f}          | {:.4f}         | {:.4f}       | {:.4f}     |\".format(nn_train_encoded,nn_test_encoded,lgb_train_encoded,lgb_test_encoded))\n",
    "print(\"| Scaled       | {:.4f}          | {:.4f}         | {:.4f}       | {:.4f}     |\".format(nn_train_scaled,nn_test_scaled,lgb_train_scaled,lgb_test_scaled))\n",
    "print(\"| Transformed  | {:.4f}          | {:.4f}         | {:.4f}       | {:.4f}     |\".format(nn_train_scaled,nn_test_scaled,lgb_train_scaled,lgb_test_scaled))"
   ]
  },
  {
   "cell_type": "markdown",
   "metadata": {},
   "source": [
    "The best result for both tree based model and neural network model are obtained on the feature set that is not scaled or transfromed. Both models perform equally well with the neural netwrok performing 1 percent better than the gradient boosted trees."
   ]
  },
  {
   "cell_type": "code",
   "execution_count": 72,
   "metadata": {},
   "outputs": [
    {
     "data": {
      "text/plain": [
       "['lgb_best.pkl']"
      ]
     },
     "execution_count": 72,
     "metadata": {},
     "output_type": "execute_result"
    }
   ],
   "source": [
    "#Save the model\n",
    "from sklearn.externals import joblib\n",
    "joblib.dump(clf_encoded, 'lgb_best.pkl')"
   ]
  },
  {
   "cell_type": "code",
   "execution_count": 73,
   "metadata": {},
   "outputs": [
    {
     "data": {
      "text/plain": [
       "<matplotlib.axes._subplots.AxesSubplot at 0x17f957c18>"
      ]
     },
     "execution_count": 73,
     "metadata": {},
     "output_type": "execute_result"
    },
    {
     "data": {
      "image/png": "[encoded data removed]",
      "text/plain": [
       "<Figure size 432x288 with 1 Axes>"
      ]
     },
     "metadata": {
      "needs_background": "light"
     },
     "output_type": "display_data"
    }
   ],
   "source": [
    "#feature importance for the best tree based model\n",
    "%matplotlib inline\n",
    "lgb.plot_importance(clf_encoded,max_num_features=10)"
   ]
  },
  {
   "cell_type": "markdown",
   "metadata": {},
   "source": [
    "## Conclusion\n",
    "\n",
    "The top 10 features affecting the buying intentions were identified. These features can be further isolated depending upon the applications. For eg. Exit would be a good measure of how well personalized webpages are working for users. A simple A/B test can be carried out with and without personalization and exit rates as well as other features can be monitored. Change in these features would indicate a change in buying intent and tell us if the test was succesfull. "
   ]
  },
  {
   "cell_type": "code",
   "execution_count": null,
   "metadata": {},
   "outputs": [],
   "source": []
  }
 ],
 "metadata": {
  "kernelspec": {
   "display_name": "Python 3",
   "language": "python",
   "name": "python3"
  },
  "language_info": {
   "codemirror_mode": {
    "name": "ipython",
    "version": 3
   },
   "file_extension": ".py",
   "mimetype": "text/x-python",
   "name": "python",
   "nbconvert_exporter": "python",
   "pygments_lexer": "ipython3",
   "version": "3.6.4"
  }
 },
 "nbformat": 4,
 "nbformat_minor": 2
}
